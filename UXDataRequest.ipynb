{
 "cells": [
  {
   "cell_type": "code",
   "execution_count": 5,
   "metadata": {},
   "outputs": [],
   "source": [
    "import pandas as pd\n",
    "import numpy as np\n",
    "df = pd.read_csv(\"C:/Users/trinet.tbs-004409/Downloads/hasGUIDs.csv\")\n",
    "df.columns=['Name', 'Guid', 'String1', 'String2']"
   ]
  },
  {
   "cell_type": "code",
   "execution_count": 7,
   "metadata": {},
   "outputs": [],
   "source": [
    "df['Avatar']= np.where((df.String1 == 'icontime') & (df.String2 != 'NaN'),1,0)"
   ]
  },
  {
   "cell_type": "code",
   "execution_count": null,
   "metadata": {},
   "outputs": [],
   "source": []
  },
  {
   "cell_type": "code",
   "execution_count": 87,
   "metadata": {
    "scrolled": true
   },
   "outputs": [
    {
     "name": "stdout",
     "output_type": "stream",
     "text": [
      "       Profile Number (GUID)  Avatar  DepartmentOrSchool  PhoneNumber  Email  \\\n",
      "0                         96       0                   1            1      0   \n",
      "1                        104       1                   1            1      1   \n",
      "2                        110       0                   1            1      1   \n",
      "3                        116       1                   1            1      1   \n",
      "4                        145       1                   1            1      1   \n",
      "5                        153       1                   1            1      1   \n",
      "6                        200       1                   1            1      1   \n",
      "7                        201       1                   1            1      1   \n",
      "8                        214       0                   1            1      1   \n",
      "9                        215       0                   1            1      1   \n",
      "10                       217       1                   1            1      1   \n",
      "11                       239       1                   1            1      1   \n",
      "12                       241       1                   1            1      1   \n",
      "13                       242       1                   1            1      1   \n",
      "14                       244       0                   1            1      1   \n",
      "15                       246       1                   1            1      1   \n",
      "16                       248       1                   1            1      1   \n",
      "17                       253       1                   1            1      1   \n",
      "18                       254       0                   1            1      1   \n",
      "19                       255       1                   1            1      1   \n",
      "20                       263       1                   1            1      1   \n",
      "21                       265       1                   1            1      1   \n",
      "22                       268       0                   1            1      1   \n",
      "23                       269       0                   1            1      1   \n",
      "24                       270       1                   1            1      1   \n",
      "25                       272       1                   1            1      1   \n",
      "26                       275       1                   1            1      1   \n",
      "27                       279       1                   1            1      1   \n",
      "28                       280       1                   1            1      1   \n",
      "29                       281       0                   1            1      1   \n",
      "...                      ...     ...                 ...          ...    ...   \n",
      "16805                 449306       0                   0            0      1   \n",
      "16806                 449307       0                   0            0      1   \n",
      "16807                 449314       0                   0            0      1   \n",
      "16808                 449318       0                   0            0      1   \n",
      "16809                 449319       0                   0            0      1   \n",
      "16810                 449379       0                   0            0      1   \n",
      "16811                 449382       0                   0            0      1   \n",
      "16812                 449389       0                   0            0      1   \n",
      "16813                 449391       0                   0            0      1   \n",
      "16814                 449393       0                   0            0      1   \n",
      "16815                 449415       0                   1            0      1   \n",
      "16816                 449424       0                   0            0      1   \n",
      "16817                 449425       0                   0            0      1   \n",
      "16818                 449426       0                   0            0      1   \n",
      "16819                 449436       0                   1            0      1   \n",
      "16820                 449455       0                   1            0      1   \n",
      "16821                 449458       0                   0            0      1   \n",
      "16822                 449473       0                   0            0      1   \n",
      "16823                 449477       0                   0            0      1   \n",
      "16824                 449647       0                   0            0      1   \n",
      "16825                 449657       0                   0            0      1   \n",
      "16826                 449735       0                   1            1      1   \n",
      "16827                 449736       0                   0            0      1   \n",
      "16828                 449745       0                   0            0      1   \n",
      "16829                 449753       1                   1            1      1   \n",
      "16830                 449760       0                   0            0      1   \n",
      "16831                 449761       0                   1            0      1   \n",
      "16832                 449806       0                   0            0      1   \n",
      "16833                 449808       0                   0            0      1   \n",
      "16834                 449809       0                   0            0      1   \n",
      "\n",
      "       Description  SocialMedia  Education  WorkExperiance  Skills Groups  \\\n",
      "0                1            1          0               0       1      1   \n",
      "1                0            1          0               0       1      1   \n",
      "2                1            1          1               1       1      1   \n",
      "3                1            1          1               1       1      1   \n",
      "4                0            1          0               0       0      1   \n",
      "5                0            1          0               1       1      1   \n",
      "6                0            1          0               0       0      1   \n",
      "7                0            1          0               0       0      1   \n",
      "8                0            1          0               0       0      1   \n",
      "9                0            1          0               0       1      1   \n",
      "10               1            1          0               0       1      1   \n",
      "11               1            1          1               1       1      1   \n",
      "12               1            1          0               1       1      1   \n",
      "13               0            1          0               0       0      1   \n",
      "14               0            1          0               0       0      1   \n",
      "15               1            1          1               1       1      1   \n",
      "16               0            1          0               0       0      1   \n",
      "17               0            1          0               0       1      1   \n",
      "18               0            1          0               0       0      1   \n",
      "19               1            1          1               1       1      1   \n",
      "20               0            1          1               1       0      1   \n",
      "21               1            1          1               1       1      1   \n",
      "22               0            1          0               0       0      1   \n",
      "23               0            1          0               0       0      1   \n",
      "24               1            1          1               1       1      1   \n",
      "25               1            1          1               1       0      1   \n",
      "26               1            1          1               1       1      1   \n",
      "27               1            1          1               1       1      1   \n",
      "28               0            1          0               0       0      1   \n",
      "29               0            1          0               0       0      1   \n",
      "...            ...          ...        ...             ...     ...    ...   \n",
      "16805            0            0          0               0       0      1   \n",
      "16806            0            0          0               0       0      1   \n",
      "16807            0            0          0               0       0      1   \n",
      "16808            0            0          0               0       0      1   \n",
      "16809            0            0          0               0       0      1   \n",
      "16810            0            0          0               0       1      1   \n",
      "16811            0            0          1               0       1      1   \n",
      "16812            0            0          0               0       0      1   \n",
      "16813            0            0          0               0       0      1   \n",
      "16814            0            0          0               0       0      1   \n",
      "16815            0            0          0               0       0      1   \n",
      "16816            0            0          0               0       0      1   \n",
      "16817            0            0          0               0       0      1   \n",
      "16818            0            0          0               0       0      1   \n",
      "16819            0            0          0               0       0      1   \n",
      "16820            0            0          0               0       0      1   \n",
      "16821            0            0          0               0       0      1   \n",
      "16822            0            0          0               0       0      1   \n",
      "16823            0            0          0               0       0      1   \n",
      "16824            0            0          0               0       0      1   \n",
      "16825            0            0          0               0       0      1   \n",
      "16826            1            1          1               1       0      1   \n",
      "16827            0            0          0               0       0      1   \n",
      "16828            0            0          0               0       1      1   \n",
      "16829            0            1          0               0       0      1   \n",
      "16830            0            0          0               0       1      1   \n",
      "16831            0            0          0               0       0      1   \n",
      "16832            0            0          0               0       0      1   \n",
      "16833            0            0          0               0       0      1   \n",
      "16834            0            0          1               0       0      1   \n",
      "\n",
      "       Profile Completeness  NumberOfGroups  WirePosts  \n",
      "0                         6               7          0  \n",
      "1                         7              24         40  \n",
      "2                         9               7          0  \n",
      "3                        10             137        102  \n",
      "4                         6              12          0  \n",
      "5                         8              17          1  \n",
      "6                         6               7          0  \n",
      "7                         6               4          0  \n",
      "8                         5               1          0  \n",
      "9                         6               7          0  \n",
      "10                        8              20          4  \n",
      "11                       10              84        173  \n",
      "12                        9               6          0  \n",
      "13                        6               4          1  \n",
      "14                        5               3          0  \n",
      "15                       10              18          8  \n",
      "16                        6               8          2  \n",
      "17                        7              15          0  \n",
      "18                        5               1          0  \n",
      "19                       10              11         32  \n",
      "20                        8               5          0  \n",
      "21                       10              13          4  \n",
      "22                        5               5          0  \n",
      "23                        5               2          0  \n",
      "24                       10               9          0  \n",
      "25                        9              13          3  \n",
      "26                       10               6         17  \n",
      "27                       10              27          9  \n",
      "28                        6              24         13  \n",
      "29                        5              20          0  \n",
      "...                     ...             ...        ...  \n",
      "16805                     2               3          0  \n",
      "16806                     2               2          0  \n",
      "16807                     2               1          0  \n",
      "16808                     2               1          0  \n",
      "16809                     2               3          0  \n",
      "16810                     3               2          0  \n",
      "16811                     4               2          0  \n",
      "16812                     2               1          0  \n",
      "16813                     2               2          0  \n",
      "16814                     2               2          0  \n",
      "16815                     3               2          0  \n",
      "16816                     2               2          0  \n",
      "16817                     2               1          0  \n",
      "16818                     2               2          0  \n",
      "16819                     3               2          0  \n",
      "16820                     3               2          0  \n",
      "16821                     2               1          0  \n",
      "16822                     2               1          0  \n",
      "16823                     2               2          0  \n",
      "16824                     2               1          0  \n",
      "16825                     2               1          0  \n",
      "16826                     8               1          0  \n",
      "16827                     2               2          0  \n",
      "16828                     3               2          0  \n",
      "16829                     6               7          0  \n",
      "16830                     3               2          0  \n",
      "16831                     3               2          0  \n",
      "16832                     2               2          0  \n",
      "16833                     2               5          0  \n",
      "16834                     3               1          0  \n",
      "\n",
      "[16835 rows x 14 columns]\n"
     ]
    }
   ],
   "source": [
    "print(df)"
   ]
  },
  {
   "cell_type": "code",
   "execution_count": 3,
   "metadata": {},
   "outputs": [],
   "source": [
    "df=df.reindex(columns=['Guid', 'Avatar', 'DepartmentOrSchool', 'PhoneNumber', 'Email', 'SocialMedia', 'Description', 'Education', 'WorkExperiance', 'Skills', 'Groups'])"
   ]
  },
  {
   "cell_type": "code",
   "execution_count": 8,
   "metadata": {},
   "outputs": [],
   "source": [
    "df['DepartmentOrSchool']= np.where((df.String1 == 'university') & (df.String2 != 'NaN'),1,0)"
   ]
  },
  {
   "cell_type": "code",
   "execution_count": 9,
   "metadata": {},
   "outputs": [],
   "source": [
    "df['PhoneNumber']= np.where((df.String1 == 'phone') & (df.String2 != 'NaN'),1,0)"
   ]
  },
  {
   "cell_type": "code",
   "execution_count": 10,
   "metadata": {},
   "outputs": [],
   "source": [
    "df['Email']= np.where((df.String1 == 'notification:method:email') & (df.String2 != 'NaN'),1,0)"
   ]
  },
  {
   "cell_type": "code",
   "execution_count": 11,
   "metadata": {},
   "outputs": [],
   "source": [
    "df['Description']= np.where((df.String1 == 'description') & (df.String2 != 'NaN'),1,0)"
   ]
  },
  {
   "cell_type": "code",
   "execution_count": 12,
   "metadata": {},
   "outputs": [],
   "source": [
    "df['DepartmentOrSchool']= np.where((df.String1 == 'federal') & (df.String2 != 'NaN'),1,0)"
   ]
  },
  {
   "cell_type": "code",
   "execution_count": 13,
   "metadata": {},
   "outputs": [],
   "source": [
    "df['DepartmentOrSchool']= np.where((df.String1 == 'college') & (df.String2 != 'NaN'),1,0)"
   ]
  },
  {
   "cell_type": "code",
   "execution_count": 14,
   "metadata": {},
   "outputs": [],
   "source": [
    "df['DepartmentOrSchool']= np.where((df.String1 == 'provincial') & (df.String2 != 'NaN'),1,0)"
   ]
  },
  {
   "cell_type": "code",
   "execution_count": 15,
   "metadata": {},
   "outputs": [],
   "source": [
    "df['DepartmentOrSchool']= np.where((df.String1 == 'ministry') & (df.String2 != 'NaN'),1,0)"
   ]
  },
  {
   "cell_type": "code",
   "execution_count": 16,
   "metadata": {},
   "outputs": [],
   "source": [
    "df['SocialMedia']= np.where((df.String1 == 'website') & (df.String2 != 'NaN'),1,0)"
   ]
  },
  {
   "cell_type": "code",
   "execution_count": 17,
   "metadata": {},
   "outputs": [],
   "source": [
    "df['SocialMedia']= np.where((df.String1 == 'facebook') & (df.String2 != 'NaN'),1,0)"
   ]
  },
  {
   "cell_type": "code",
   "execution_count": 18,
   "metadata": {},
   "outputs": [],
   "source": [
    "df['SocialMedia']= np.where((df.String1 == 'google') & (df.String2 != 'NaN'),1,0)"
   ]
  },
  {
   "cell_type": "code",
   "execution_count": 19,
   "metadata": {},
   "outputs": [],
   "source": [
    "df['SocialMedia']= np.where((df.String1 == 'github') & (df.String2 != 'NaN'),1,0)"
   ]
  },
  {
   "cell_type": "code",
   "execution_count": 20,
   "metadata": {},
   "outputs": [],
   "source": [
    "df['SocialMedia']= np.where((df.String1 == 'twitter') & (df.String2 != 'NaN'),1,0)"
   ]
  },
  {
   "cell_type": "code",
   "execution_count": 21,
   "metadata": {},
   "outputs": [],
   "source": [
    "df['SocialMedia']= np.where((df.String1 == 'linkedin') & (df.String2 != 'NaN'),1,0)"
   ]
  },
  {
   "cell_type": "code",
   "execution_count": 22,
   "metadata": {},
   "outputs": [],
   "source": [
    "df['SocialMedia']= np.where((df.String1 == 'pinterest') & (df.String2 != 'NaN'),1,0)"
   ]
  },
  {
   "cell_type": "code",
   "execution_count": 23,
   "metadata": {},
   "outputs": [],
   "source": [
    "df['SocialMedia']= np.where((df.String1 == 'tumblr') & (df.String2 != 'NaN'),1,0)"
   ]
  },
  {
   "cell_type": "code",
   "execution_count": 24,
   "metadata": {},
   "outputs": [],
   "source": [
    "df['SocialMedia']= np.where((df.String1 == 'instagram') & (df.String2 != 'NaN'),1,0)"
   ]
  },
  {
   "cell_type": "code",
   "execution_count": 25,
   "metadata": {},
   "outputs": [],
   "source": [
    "df['SocialMedia']= np.where((df.String1 == 'flickr') & (df.String2 != 'NaN'),1,0)"
   ]
  },
  {
   "cell_type": "code",
   "execution_count": 26,
   "metadata": {},
   "outputs": [],
   "source": [
    "df['SocialMedia']= np.where((df.String1 == 'youtube') & (df.String2 != 'NaN'),1,0)"
   ]
  },
  {
   "cell_type": "code",
   "execution_count": 27,
   "metadata": {},
   "outputs": [],
   "source": [
    "df['Education']= np.where((df.String1 == 'education') & (df.String2 != 'NaN'),1,0)"
   ]
  },
  {
   "cell_type": "code",
   "execution_count": 28,
   "metadata": {},
   "outputs": [],
   "source": [
    "df['WorkExperiance']= np.where((df.String1 == 'work') & (df.String2 != 'NaN'),1,0)"
   ]
  },
  {
   "cell_type": "code",
   "execution_count": 29,
   "metadata": {},
   "outputs": [],
   "source": [
    "df['Skills']= np.where((df.String1 == 'gc_skills') & (df.String2 != 'NaN'),1,0)"
   ]
  },
  {
   "cell_type": "code",
   "execution_count": 30,
   "metadata": {
    "scrolled": true
   },
   "outputs": [],
   "source": [
    "df = df.drop(columns=['String1', 'String2'])"
   ]
  },
  {
   "cell_type": "code",
   "execution_count": 32,
   "metadata": {},
   "outputs": [],
   "source": [
    "df = df.groupby(['Guid']).sum()"
   ]
  },
  {
   "cell_type": "code",
   "execution_count": 38,
   "metadata": {},
   "outputs": [],
   "source": [
    "df['SocialMedia']= np.where((df.SocialMedia > 0),1,0)"
   ]
  },
  {
   "cell_type": "code",
   "execution_count": 39,
   "metadata": {},
   "outputs": [],
   "source": [
    "df['DepartmentOrSchool']= np.where((df.DepartmentOrSchool > 0),1,0)"
   ]
  },
  {
   "cell_type": "code",
   "execution_count": 40,
   "metadata": {},
   "outputs": [],
   "source": [
    "df['PhoneNumber']= np.where((df.PhoneNumber > 0),1,0)"
   ]
  },
  {
   "cell_type": "code",
   "execution_count": 41,
   "metadata": {},
   "outputs": [],
   "source": [
    "df['Email']= np.where((df.Email > 0),1,0)"
   ]
  },
  {
   "cell_type": "code",
   "execution_count": 42,
   "metadata": {},
   "outputs": [],
   "source": [
    "df['Description']= np.where((df.Description > 0),1,0)"
   ]
  },
  {
   "cell_type": "code",
   "execution_count": 43,
   "metadata": {},
   "outputs": [],
   "source": [
    "df['Education']= np.where((df.Education > 0),1,0)"
   ]
  },
  {
   "cell_type": "code",
   "execution_count": 44,
   "metadata": {},
   "outputs": [],
   "source": [
    "df['WorkExperiance']= np.where((df.WorkExperiance > 0),1,0)"
   ]
  },
  {
   "cell_type": "code",
   "execution_count": 45,
   "metadata": {},
   "outputs": [],
   "source": [
    "df['Skills']= np.where((df.Skills > 0),1,0)"
   ]
  },
  {
   "cell_type": "code",
   "execution_count": 47,
   "metadata": {},
   "outputs": [],
   "source": [
    "df['Profile Completeness'] = df.sum(axis=1)"
   ]
  },
  {
   "cell_type": "code",
   "execution_count": 50,
   "metadata": {},
   "outputs": [
    {
     "data": {
      "text/plain": [
       "(<sqlalchemy.orm.session.Session at 0x4004e66d68>, sqlalchemy.ext.automap.Base)"
      ]
     },
     "execution_count": 50,
     "metadata": {},
     "output_type": "execute_result"
    }
   ],
   "source": [
    "import gccollab as gc\n",
    "gc.connect_to_database()\n",
    "gc.create_session()"
   ]
  },
  {
   "cell_type": "code",
   "execution_count": 56,
   "metadata": {},
   "outputs": [],
   "source": [
    "df2 = gc.groups.get_membership()"
   ]
  },
  {
   "cell_type": "code",
   "execution_count": 65,
   "metadata": {
    "scrolled": true
   },
   "outputs": [
    {
     "name": "stdout",
     "output_type": "stream",
     "text": [
      "         Guid  group_guid\n",
      "0          96           7\n",
      "1         104          24\n",
      "2         110           7\n",
      "3         116         137\n",
      "4         145          12\n",
      "5         153          17\n",
      "6         200           7\n",
      "7         201           4\n",
      "8         214           1\n",
      "9         215           7\n",
      "10        217          20\n",
      "11        239          84\n",
      "12        241           6\n",
      "13        242           4\n",
      "14        244           3\n",
      "15        246          18\n",
      "16        248           8\n",
      "17        253          15\n",
      "18        254           1\n",
      "19        255          11\n",
      "20        263           5\n",
      "21        265          13\n",
      "22        268           5\n",
      "23        269           2\n",
      "24        270           9\n",
      "25        272          13\n",
      "26        275           6\n",
      "27        279          27\n",
      "28        280          24\n",
      "29        281          20\n",
      "...       ...         ...\n",
      "25570  845446           1\n",
      "25571  845447           1\n",
      "25572  845465           1\n",
      "25573  845557           1\n",
      "25574  845558           1\n",
      "25575  845577           2\n",
      "25576  845596           1\n",
      "25577  845608           1\n",
      "25578  845610           1\n",
      "25579  845672           1\n",
      "25580  845684           1\n",
      "25581  845709           1\n",
      "25582  845710           2\n",
      "25583  845716           1\n",
      "25584  845718           2\n",
      "25585  845800           1\n",
      "25586  845947           1\n",
      "25587  845949           1\n",
      "25588  846017           1\n",
      "25589  846022           2\n",
      "25590  846359           1\n",
      "25591  846375           1\n",
      "25592  846376           2\n",
      "25593  846377           1\n",
      "25594  846381           2\n",
      "25595  846977           1\n",
      "25596  846985           1\n",
      "25597  846990           1\n",
      "25598  846995           1\n",
      "25599  847023           1\n",
      "\n",
      "[25600 rows x 2 columns]\n"
     ]
    }
   ],
   "source": [
    "print(df2)"
   ]
  },
  {
   "cell_type": "code",
   "execution_count": 60,
   "metadata": {
    "scrolled": true
   },
   "outputs": [],
   "source": [
    "df2 = df2.drop(columns=['user_name', 'group_name', 'time_created'])"
   ]
  },
  {
   "cell_type": "code",
   "execution_count": 61,
   "metadata": {},
   "outputs": [],
   "source": [
    "df2 = df2.groupby(['Guid']).count()"
   ]
  },
  {
   "cell_type": "code",
   "execution_count": 58,
   "metadata": {
    "scrolled": true
   },
   "outputs": [],
   "source": [
    "df2 = df2.rename(columns={'user_guid': 'Guid'})"
   ]
  },
  {
   "cell_type": "code",
   "execution_count": 67,
   "metadata": {},
   "outputs": [],
   "source": [
    "df = pd.merge(df, df2, on='Guid')"
   ]
  },
  {
   "cell_type": "code",
   "execution_count": null,
   "metadata": {},
   "outputs": [],
   "source": [
    "list(df.columns.values)"
   ]
  },
  {
   "cell_type": "code",
   "execution_count": 63,
   "metadata": {},
   "outputs": [],
   "source": [
    "df = df.reset_index()"
   ]
  },
  {
   "cell_type": "code",
   "execution_count": 64,
   "metadata": {},
   "outputs": [],
   "source": [
    "df2 = df2.reset_index()"
   ]
  },
  {
   "cell_type": "code",
   "execution_count": 77,
   "metadata": {},
   "outputs": [],
   "source": [
    "df3 = df3.reset_index()"
   ]
  },
  {
   "cell_type": "code",
   "execution_count": 69,
   "metadata": {},
   "outputs": [],
   "source": [
    "df = df.rename(columns={'group_guid': 'NumberOfGroups'})"
   ]
  },
  {
   "cell_type": "code",
   "execution_count": 72,
   "metadata": {},
   "outputs": [],
   "source": [
    "df3 = pd.read_csv(\"C:/Users/trinet.tbs-004409/Downloads/wireguid.csv\")"
   ]
  },
  {
   "cell_type": "code",
   "execution_count": 76,
   "metadata": {
    "scrolled": true
   },
   "outputs": [
    {
     "name": "stdout",
     "output_type": "stream",
     "text": [
      "        WirePosts\n",
      "Guid             \n",
      "104            40\n",
      "116           102\n",
      "153             1\n",
      "217             4\n",
      "239           173\n",
      "242             1\n",
      "246             8\n",
      "248             2\n",
      "255            32\n",
      "265             4\n",
      "272             3\n",
      "275            17\n",
      "279             9\n",
      "280            13\n",
      "308             1\n",
      "309             3\n",
      "315            33\n",
      "317             1\n",
      "318             1\n",
      "351            52\n",
      "352            84\n",
      "370             1\n",
      "377            15\n",
      "378             7\n",
      "389            65\n",
      "439             1\n",
      "443             2\n",
      "455             1\n",
      "489             1\n",
      "545            52\n",
      "...           ...\n",
      "379927          1\n",
      "380170          1\n",
      "380395          2\n",
      "380708          1\n",
      "381513          1\n",
      "382511          1\n",
      "385246          1\n",
      "389552          1\n",
      "391887          1\n",
      "392489          1\n",
      "393045          1\n",
      "398560          2\n",
      "402749          1\n",
      "403215          1\n",
      "407060          1\n",
      "410011          1\n",
      "410407          1\n",
      "410446          6\n",
      "410790          2\n",
      "418069          1\n",
      "418289          2\n",
      "419089          1\n",
      "424411          2\n",
      "429165          1\n",
      "435761          1\n",
      "446070          1\n",
      "447156          1\n",
      "447967          1\n",
      "448040          2\n",
      "448245          2\n",
      "\n",
      "[431 rows x 1 columns]\n"
     ]
    }
   ],
   "source": [
    "print(df3)"
   ]
  },
  {
   "cell_type": "code",
   "execution_count": 74,
   "metadata": {},
   "outputs": [],
   "source": [
    "df3.columns=['Guid', 'WirePosts']"
   ]
  },
  {
   "cell_type": "code",
   "execution_count": 75,
   "metadata": {},
   "outputs": [],
   "source": [
    "df3 = df3.groupby(['Guid']).count()"
   ]
  },
  {
   "cell_type": "code",
   "execution_count": 79,
   "metadata": {},
   "outputs": [],
   "source": [
    "df = pd.merge(df, df3, on='Guid', how = 'left')"
   ]
  },
  {
   "cell_type": "code",
   "execution_count": null,
   "metadata": {},
   "outputs": [],
   "source": []
  },
  {
   "cell_type": "code",
   "execution_count": 86,
   "metadata": {},
   "outputs": [],
   "source": [
    "df = df.rename(columns={\"Guid\": \"Profile Number (GUID)\"})"
   ]
  },
  {
   "cell_type": "code",
   "execution_count": 88,
   "metadata": {},
   "outputs": [],
   "source": [
    "df.to_csv('UXJune12WithGUID.csv')"
   ]
  },
  {
   "cell_type": "code",
   "execution_count": 34,
   "metadata": {},
   "outputs": [],
   "source": [
    "df.insert(9, 'Groups', '1')"
   ]
  },
  {
   "cell_type": "code",
   "execution_count": 49,
   "metadata": {},
   "outputs": [],
   "source": [
    "df['Profile Completeness'] += 1"
   ]
  },
  {
   "cell_type": "code",
   "execution_count": 89,
   "metadata": {},
   "outputs": [
    {
     "data": {
      "text/plain": [
       "429"
      ]
     },
     "execution_count": 89,
     "metadata": {},
     "output_type": "execute_result"
    }
   ],
   "source": [
    "(df['Profile Completeness'] == 10).sum()"
   ]
  },
  {
   "cell_type": "code",
   "execution_count": 90,
   "metadata": {},
   "outputs": [
    {
     "data": {
      "text/plain": [
       "2966"
      ]
     },
     "execution_count": 90,
     "metadata": {},
     "output_type": "execute_result"
    }
   ],
   "source": [
    "(df['Profile Completeness'] == 3).sum()"
   ]
  },
  {
   "cell_type": "code",
   "execution_count": 91,
   "metadata": {},
   "outputs": [
    {
     "data": {
      "text/plain": [
       "970"
      ]
     },
     "execution_count": 91,
     "metadata": {},
     "output_type": "execute_result"
    }
   ],
   "source": [
    "(df['Profile Completeness'] == 4).sum()"
   ]
  },
  {
   "cell_type": "code",
   "execution_count": 92,
   "metadata": {},
   "outputs": [
    {
     "data": {
      "text/plain": [
       "1283"
      ]
     },
     "execution_count": 92,
     "metadata": {},
     "output_type": "execute_result"
    }
   ],
   "source": [
    "(df['Profile Completeness'] == 5).sum()"
   ]
  },
  {
   "cell_type": "code",
   "execution_count": 93,
   "metadata": {},
   "outputs": [
    {
     "data": {
      "text/plain": [
       "850"
      ]
     },
     "execution_count": 93,
     "metadata": {},
     "output_type": "execute_result"
    }
   ],
   "source": [
    "(df['Profile Completeness'] == 6).sum()"
   ]
  },
  {
   "cell_type": "code",
   "execution_count": 94,
   "metadata": {},
   "outputs": [
    {
     "data": {
      "text/plain": [
       "776"
      ]
     },
     "execution_count": 94,
     "metadata": {},
     "output_type": "execute_result"
    }
   ],
   "source": [
    "(df['Profile Completeness'] == 7).sum()"
   ]
  },
  {
   "cell_type": "code",
   "execution_count": 95,
   "metadata": {},
   "outputs": [
    {
     "data": {
      "text/plain": [
       "405"
      ]
     },
     "execution_count": 95,
     "metadata": {},
     "output_type": "execute_result"
    }
   ],
   "source": [
    "(df['Profile Completeness'] == 8).sum()"
   ]
  },
  {
   "cell_type": "code",
   "execution_count": 96,
   "metadata": {},
   "outputs": [
    {
     "data": {
      "text/plain": [
       "295"
      ]
     },
     "execution_count": 96,
     "metadata": {},
     "output_type": "execute_result"
    }
   ],
   "source": [
    "(df['Profile Completeness'] == 9).sum()"
   ]
  },
  {
   "cell_type": "code",
   "execution_count": 97,
   "metadata": {},
   "outputs": [],
   "source": [
    "d = {\"Number of Profile Elements Completed, Nombre d'éléments de profil terminés\": [3, 4, 5, 6, 7, 8, 9, 10], \"Number of People, Nombre de personnes\": [9070, 2728, 918, 1491, 841, 423, 459, 507]}"
   ]
  },
  {
   "cell_type": "code",
   "execution_count": 98,
   "metadata": {},
   "outputs": [],
   "source": [
    "q1df = pd.DataFrame(data=d)"
   ]
  },
  {
   "cell_type": "code",
   "execution_count": 99,
   "metadata": {
    "scrolled": true
   },
   "outputs": [
    {
     "name": "stdout",
     "output_type": "stream",
     "text": [
      "   Number of People, Nombre de personnes  \\\n",
      "0                                   9070   \n",
      "1                                   2728   \n",
      "2                                    918   \n",
      "3                                   1491   \n",
      "4                                    841   \n",
      "5                                    423   \n",
      "6                                    459   \n",
      "7                                    507   \n",
      "\n",
      "   Number of Profile Elements Completed, Nombre d'éléments de profil terminés  \n",
      "0                                                  3                           \n",
      "1                                                  4                           \n",
      "2                                                  5                           \n",
      "3                                                  6                           \n",
      "4                                                  7                           \n",
      "5                                                  8                           \n",
      "6                                                  9                           \n",
      "7                                                 10                           \n"
     ]
    }
   ],
   "source": [
    "print(q1df)"
   ]
  },
  {
   "cell_type": "code",
   "execution_count": 100,
   "metadata": {},
   "outputs": [],
   "source": [
    "q1df.to_csv('q1ProfileStrengthStats.csv')"
   ]
  },
  {
   "cell_type": "code",
   "execution_count": null,
   "metadata": {},
   "outputs": [],
   "source": [
    "import matplotlib.pyplot as plt"
   ]
  },
  {
   "cell_type": "code",
   "execution_count": null,
   "metadata": {
    "scrolled": true
   },
   "outputs": [],
   "source": [
    "plt.scatter(q1df[\"Number of Profile Elements Completed, Nombre d'éléments de profil terminés\"], q1df[\"Number of People, Nombre de personnes\"])"
   ]
  },
  {
   "cell_type": "code",
   "execution_count": 101,
   "metadata": {},
   "outputs": [],
   "source": [
    "dfq2 = df"
   ]
  },
  {
   "cell_type": "code",
   "execution_count": 102,
   "metadata": {},
   "outputs": [],
   "source": [
    "dfq2 = dfq2.drop(columns=['Profile Completeness', 'NumberOfGroups', 'WirePosts'])"
   ]
  },
  {
   "cell_type": "code",
   "execution_count": 105,
   "metadata": {},
   "outputs": [
    {
     "name": "stdout",
     "output_type": "stream",
     "text": [
      "Profile Number (GUID)    16835\n",
      "Avatar                    3262\n",
      "DepartmentOrSchool        3950\n",
      "PhoneNumber               3328\n",
      "Email                    16834\n",
      "Description               1806\n",
      "SocialMedia               2807\n",
      "Education                 2607\n",
      "WorkExperiance            2248\n",
      "Skills                    3955\n",
      "Groups                   16835\n",
      "dtype: int64\n"
     ]
    }
   ],
   "source": [
    "print(dfq2)"
   ]
  },
  {
   "cell_type": "code",
   "execution_count": 104,
   "metadata": {},
   "outputs": [],
   "source": [
    "dfq2 = dfq2.fillna(0).astype(bool).sum(axis=0)"
   ]
  },
  {
   "cell_type": "code",
   "execution_count": 106,
   "metadata": {},
   "outputs": [],
   "source": [
    "dfq2.to_csv('q2BasicInfoMostUsed.csv')"
   ]
  },
  {
   "cell_type": "code",
   "execution_count": null,
   "metadata": {},
   "outputs": [],
   "source": [
    "gc.content.get_blogs()"
   ]
  },
  {
   "cell_type": "code",
   "execution_count": null,
   "metadata": {},
   "outputs": [],
   "source": [
    "df = df.fillna(0)"
   ]
  },
  {
   "cell_type": "code",
   "execution_count": null,
   "metadata": {},
   "outputs": [],
   "source": [
    "df = pd.read_csv(\"AlexDonnaUXDataRequestJune11final.csv\")"
   ]
  },
  {
   "cell_type": "code",
   "execution_count": null,
   "metadata": {},
   "outputs": [],
   "source": [
    "df = df.drop(columns=['Unnamed: 0'])"
   ]
  },
  {
   "cell_type": "code",
   "execution_count": null,
   "metadata": {},
   "outputs": [],
   "source": [
    "df['WirePosts']= np.where((df.WirePosts.math.isNa),0)"
   ]
  },
  {
   "cell_type": "code",
   "execution_count": null,
   "metadata": {},
   "outputs": [],
   "source": [
    "import math"
   ]
  },
  {
   "cell_type": "code",
   "execution_count": null,
   "metadata": {},
   "outputs": [],
   "source": [
    "print(df)"
   ]
  },
  {
   "cell_type": "code",
   "execution_count": null,
   "metadata": {},
   "outputs": [],
   "source": [
    "df = df.fillna(int(0))"
   ]
  },
  {
   "cell_type": "code",
   "execution_count": 81,
   "metadata": {},
   "outputs": [],
   "source": [
    "df['WirePosts'] = df['WirePosts'].fillna(0.0).astype(int)"
   ]
  },
  {
   "cell_type": "code",
   "execution_count": 110,
   "metadata": {},
   "outputs": [],
   "source": [
    "dfq3 = pd.read_csv(\"C:/Users/trinet.tbs-004409/Downloads/q3withguid.csv\")"
   ]
  },
  {
   "cell_type": "code",
   "execution_count": 136,
   "metadata": {
    "scrolled": true
   },
   "outputs": [
    {
     "name": "stdout",
     "output_type": "stream",
     "text": [
      "        Guid Profile  Portfolio  Widget  Files  Blog  Events Badge Progress  \\\n",
      "0         96       1          0       4      1     0       0              1   \n",
      "1        104       1          0       5      1     2       0              1   \n",
      "2        110       1          0       5      0     3       0              1   \n",
      "3        116       1          0      10      9     1      22              1   \n",
      "4        145       1          0       5      0     0       0              1   \n",
      "5        153       1          0       8      1     0       0              1   \n",
      "6        200       1          0       5      0     0       0              1   \n",
      "7        201       1          0       0      1     0       0              1   \n",
      "8        217       1          0       0      2     0       0              1   \n",
      "9        239       1          0      11     32     4       0              1   \n",
      "10       242       1          0       0      0     0       0              1   \n",
      "11       246       1          0       0      0     1       0              1   \n",
      "12       248       1          0       0      0     0       0              1   \n",
      "13       253       1          0       0     16     0       2              1   \n",
      "14       255       1          0       5      3     1       0              1   \n",
      "15       265       1          0       2      0     0       0              1   \n",
      "16       270       1          0       0      0     0       1              1   \n",
      "17       272       1          0       0      0     0       0              1   \n",
      "18       275       1          0       0      1     1       0              1   \n",
      "19       279       1          0       4      5     0       0              1   \n",
      "20       280       1          0       0      5     1       0              1   \n",
      "21       281       1          0       0      0     0       0              1   \n",
      "22       308       1          0       0      0     0       0              1   \n",
      "23       309       1          0       1      1     0       0              1   \n",
      "24       315       1          0       0      2    42       0              1   \n",
      "25       317       1          0       0      0     0       0              1   \n",
      "26       318       1          0       0      0     0       0              1   \n",
      "27       320       1          0       0     15     0       0              1   \n",
      "28       351       1          0       0      5     6       2              1   \n",
      "29       352       1          0      24      4     4       2              1   \n",
      "...      ...     ...        ...     ...    ...   ...     ...            ...   \n",
      "1659  410707       1          0       0      1     0       0              1   \n",
      "1660  410790       1          0       0      0     0       0              1   \n",
      "1661  412148       1          0       0      2     0       0              1   \n",
      "1662  412317       1          0       0      2     0       0              1   \n",
      "1663  412926       1          2       0      0     0       0              1   \n",
      "1664  416169       1          0       0      1     0       0              1   \n",
      "1665  416194       1          0       0      1     0       0              1   \n",
      "1666  418069       1          0       0      0     0       0              1   \n",
      "1667  418289       1          0       0     22     0       0              1   \n",
      "1668  419089       1          0       0      0     0       0              1   \n",
      "1669  419635       1          0       0      1     0       0              1   \n",
      "1670  419652       1          0       0      1     0       0              1   \n",
      "1671  419701       1          0       0      1     0       0              1   \n",
      "1672  424411       1          0       0      0     0       0              1   \n",
      "1673  427130       1          0       0      1     1       0              1   \n",
      "1674  429165       1          0       1      0     0       0              1   \n",
      "1675  430084       1          0       0     18     0       0              1   \n",
      "1676  430211       1          0       0      1     0       0              1   \n",
      "1677  431595       1          0       0      1     0       0              1   \n",
      "1678  435761       1          0       0      0     0       0              1   \n",
      "1679  437761       1          0       0      1     0       0              1   \n",
      "1680  441431       1          0       0      0     0       0              1   \n",
      "1681  441850       1          0       0      1     0       0              1   \n",
      "1682  446070       1          0       0      0     0       0              1   \n",
      "1683  447156       1          0       0      0     0       0              1   \n",
      "1684  447967       1          0       0      0     0       0              1   \n",
      "1685  448040       1          0       0      0     0       0              1   \n",
      "1686  448245       1          0       0      0     0       0              1   \n",
      "1687  448886       1          0       0      1     0       0              1   \n",
      "1688  449753       1          0       0      0     0       0              1   \n",
      "\n",
      "      Docs(Beta)  Pages  Bookmarks  Polls  Photo Album  \n",
      "0              2      0          0      0            0  \n",
      "1              1      0          0      0            0  \n",
      "2              0      0          0      0            0  \n",
      "3              6      0          9      0           14  \n",
      "4              1      0          0      0            1  \n",
      "5              0      0          0      0            0  \n",
      "6              0      0          0      0            0  \n",
      "7              0      0          0      0            0  \n",
      "8              4      0          0      0            0  \n",
      "9             12      0         17      0            5  \n",
      "10             0      0          0      0            0  \n",
      "11             0      0          0      0            0  \n",
      "12             0      0          0      0            0  \n",
      "13             0      0          0      0            0  \n",
      "14             0      0          0      0            0  \n",
      "15             0      0          0      0            0  \n",
      "16             0      0          1      0            0  \n",
      "17             0      0          0      0            2  \n",
      "18             0      0         23      0            7  \n",
      "19             3      0          1      0            0  \n",
      "20             3      0          3      1            1  \n",
      "21             0      0          0      0            1  \n",
      "22             0      0          0      0            0  \n",
      "23             0      0          0      0            0  \n",
      "24             0      0          0      0            9  \n",
      "25             0      0          0      0            0  \n",
      "26             0      0          0      0            0  \n",
      "27             0      0          0      0            0  \n",
      "28             0      0          2      0            1  \n",
      "29             1      0          5      1            0  \n",
      "...          ...    ...        ...    ...          ...  \n",
      "1659           0      0          0      0            0  \n",
      "1660           0      0          0      0            0  \n",
      "1661           0      0          0      0            0  \n",
      "1662           0      0          0      0            0  \n",
      "1663           0      0          0      0            0  \n",
      "1664           0      0          0      0            0  \n",
      "1665           0      0          0      0            0  \n",
      "1666           0      0          0      0            0  \n",
      "1667           0      0          0      0            0  \n",
      "1668           0      0          0      0            0  \n",
      "1669           0      0          0      0            0  \n",
      "1670           0      0          0      0            0  \n",
      "1671           0      0          0      0            0  \n",
      "1672           0      0          0      0            0  \n",
      "1673           0      0          0      0            0  \n",
      "1674           0      0          0      0            0  \n",
      "1675           0      0          0      0            0  \n",
      "1676           0      0          0      0            0  \n",
      "1677           0      0          0      0            0  \n",
      "1678           0      0          0      0            0  \n",
      "1679           0      0          0      0            0  \n",
      "1680           1      0          0      0            0  \n",
      "1681           0      0          0      0            0  \n",
      "1682           0      0          0      0            0  \n",
      "1683           0      0          0      0            0  \n",
      "1684           0      0          0      0            0  \n",
      "1685           0      0          0      0            0  \n",
      "1686           0      0          0      0            0  \n",
      "1687           0      0          0      0            0  \n",
      "1688           0      0          0      0            1  \n",
      "\n",
      "[1689 rows x 13 columns]\n"
     ]
    }
   ],
   "source": [
    "print(dfq3)"
   ]
  },
  {
   "cell_type": "code",
   "execution_count": null,
   "metadata": {},
   "outputs": [],
   "source": []
  },
  {
   "cell_type": "code",
   "execution_count": 163,
   "metadata": {},
   "outputs": [],
   "source": [
    "justInCase=justInCase.reindex(columns=[\"Profile Number (GUID)\", 'Profile', 'Portfolio', 'Widget', 'Files', 'Blog', 'Events', 'Badge Progress', 'WirePosts', \"Docs(Beta)\", 'Pages', 'Bookmarks', 'Polls', 'Photo Album'])"
   ]
  },
  {
   "cell_type": "code",
   "execution_count": 112,
   "metadata": {},
   "outputs": [],
   "source": [
    "dfq3.columns=['Guid', 'ContentType']"
   ]
  },
  {
   "cell_type": "code",
   "execution_count": null,
   "metadata": {},
   "outputs": [],
   "source": []
  },
  {
   "cell_type": "code",
   "execution_count": 151,
   "metadata": {
    "scrolled": true
   },
   "outputs": [],
   "source": [
    "justInCase['Portfolio'] = justInCase['Portfolio'].fillna(0.0).astype(int)"
   ]
  },
  {
   "cell_type": "code",
   "execution_count": 152,
   "metadata": {},
   "outputs": [],
   "source": [
    "justInCase['Widget'] = justInCase['Widget'].fillna(0.0).astype(int)"
   ]
  },
  {
   "cell_type": "code",
   "execution_count": 153,
   "metadata": {},
   "outputs": [],
   "source": [
    "justInCase['Files'] = justInCase['Files'].fillna(0.0).astype(int)"
   ]
  },
  {
   "cell_type": "code",
   "execution_count": 154,
   "metadata": {},
   "outputs": [],
   "source": [
    "justInCase['Blog'] = justInCase['Blog'].fillna(0.0).astype(int)"
   ]
  },
  {
   "cell_type": "code",
   "execution_count": 155,
   "metadata": {},
   "outputs": [],
   "source": [
    "justInCase['Events'] = justInCase['Events'].fillna(0.0).astype(int)"
   ]
  },
  {
   "cell_type": "code",
   "execution_count": 156,
   "metadata": {},
   "outputs": [],
   "source": [
    "justInCase['Pages'] = justInCase['Pages'].fillna(0.0).astype(int)"
   ]
  },
  {
   "cell_type": "code",
   "execution_count": 157,
   "metadata": {},
   "outputs": [],
   "source": [
    "justInCase['Bookmarks'] = justInCase['Bookmarks'].fillna(0.0).astype(int)"
   ]
  },
  {
   "cell_type": "code",
   "execution_count": 158,
   "metadata": {},
   "outputs": [],
   "source": [
    "justInCase['Polls'] = justInCase['Polls'].fillna(0.0).astype(int)"
   ]
  },
  {
   "cell_type": "code",
   "execution_count": 159,
   "metadata": {},
   "outputs": [],
   "source": [
    "justInCase['Photo Album'] = justInCase['Photo Album'].fillna(0.0).astype(int)"
   ]
  },
  {
   "cell_type": "code",
   "execution_count": 161,
   "metadata": {},
   "outputs": [],
   "source": [
    "justInCase[\"Docs(Beta)\"] = justInCase[\"Docs(Beta)\"].fillna(0.0).astype(int)"
   ]
  },
  {
   "cell_type": "code",
   "execution_count": 165,
   "metadata": {},
   "outputs": [],
   "source": [
    "justInCase[\"Profile\"] = justInCase[\"Profile\"].fillna(0.0).astype(int)"
   ]
  },
  {
   "cell_type": "code",
   "execution_count": 166,
   "metadata": {},
   "outputs": [],
   "source": [
    "justInCase[\"Badge Progress\"] = justInCase[\"Badge Progress\"].fillna(0.0).astype(int)"
   ]
  },
  {
   "cell_type": "code",
   "execution_count": 133,
   "metadata": {},
   "outputs": [],
   "source": [
    "justInCase = df"
   ]
  },
  {
   "cell_type": "code",
   "execution_count": null,
   "metadata": {},
   "outputs": [],
   "source": [
    "justInCase.to_csv('justInCase.csv')"
   ]
  },
  {
   "cell_type": "code",
   "execution_count": 113,
   "metadata": {},
   "outputs": [],
   "source": [
    "dfq3['Portfolio']= np.where((dfq3.ContentType == 35),1,0)"
   ]
  },
  {
   "cell_type": "code",
   "execution_count": null,
   "metadata": {},
   "outputs": [],
   "source": [
    "dfq3.columns=['Name', 'ContentType']"
   ]
  },
  {
   "cell_type": "code",
   "execution_count": 114,
   "metadata": {},
   "outputs": [],
   "source": [
    "dfq3['Widget']= np.where((dfq3.ContentType == 3),1,0)"
   ]
  },
  {
   "cell_type": "code",
   "execution_count": 115,
   "metadata": {},
   "outputs": [],
   "source": [
    "dfq3['Files']= np.where((dfq3.ContentType == 2),1,0)"
   ]
  },
  {
   "cell_type": "code",
   "execution_count": 116,
   "metadata": {},
   "outputs": [],
   "source": [
    "dfq3['Blog']= np.where((dfq3.ContentType == 6),1,0)"
   ]
  },
  {
   "cell_type": "code",
   "execution_count": 117,
   "metadata": {},
   "outputs": [],
   "source": [
    "dfq3['Events']= np.where((dfq3.ContentType == 18),1,0)"
   ]
  },
  {
   "cell_type": "code",
   "execution_count": 118,
   "metadata": {},
   "outputs": [],
   "source": [
    "dfq3['Pages']= np.where((dfq3.ContentType == 40),1,0)"
   ]
  },
  {
   "cell_type": "code",
   "execution_count": 119,
   "metadata": {},
   "outputs": [],
   "source": [
    "dfq3['Bookmarks']= np.where((dfq3.ContentType == 38),1,0)"
   ]
  },
  {
   "cell_type": "code",
   "execution_count": 120,
   "metadata": {},
   "outputs": [],
   "source": [
    "dfq3['Polls']= np.where((dfq3.ContentType == 41),1,0)"
   ]
  },
  {
   "cell_type": "code",
   "execution_count": 121,
   "metadata": {},
   "outputs": [],
   "source": [
    "dfq3['Photo Album']= np.where((dfq3.ContentType == 19),1,0)"
   ]
  },
  {
   "cell_type": "code",
   "execution_count": 122,
   "metadata": {},
   "outputs": [],
   "source": [
    "dfq3[\"Docs(Beta)\"]= np.where((dfq3.ContentType == 59),1,0)"
   ]
  },
  {
   "cell_type": "code",
   "execution_count": 124,
   "metadata": {},
   "outputs": [],
   "source": [
    "dfq3 = dfq3.groupby(['Guid']).sum()"
   ]
  },
  {
   "cell_type": "code",
   "execution_count": 125,
   "metadata": {
    "scrolled": true
   },
   "outputs": [],
   "source": [
    "dfq3 = dfq3.drop(columns=['ContentType'])"
   ]
  },
  {
   "cell_type": "code",
   "execution_count": null,
   "metadata": {},
   "outputs": [],
   "source": [
    "dfq3.fillna(0).astype(bool).sum(axis=0)"
   ]
  },
  {
   "cell_type": "code",
   "execution_count": 128,
   "metadata": {},
   "outputs": [],
   "source": [
    "dfq3.insert(1, 'Profile', '1')"
   ]
  },
  {
   "cell_type": "code",
   "execution_count": 129,
   "metadata": {},
   "outputs": [],
   "source": [
    "dfq3.insert(6, 'Badge Progress', '1')"
   ]
  },
  {
   "cell_type": "code",
   "execution_count": 135,
   "metadata": {},
   "outputs": [],
   "source": [
    "dfq3 = dfq3.reset_index()"
   ]
  },
  {
   "cell_type": "code",
   "execution_count": 148,
   "metadata": {},
   "outputs": [],
   "source": [
    "justInCase = justInCase.drop(columns=['Avatar', 'DepartmentOrSchool', 'PhoneNumber', 'Email', 'SocialMedia', 'Description', 'Education', 'WorkExperiance', 'Skills', 'Groups', 'Profile Completeness', 'NumberOfGroups'])"
   ]
  },
  {
   "cell_type": "code",
   "execution_count": 140,
   "metadata": {},
   "outputs": [],
   "source": [
    "dfq3 = dfq3.rename(columns={\"Guid\": \"Profile Number (GUID)\"})"
   ]
  },
  {
   "cell_type": "code",
   "execution_count": 170,
   "metadata": {},
   "outputs": [],
   "source": [
    "justInCase['Profile'] = 1\n",
    "justInCase['Badge Progress'] = 1"
   ]
  },
  {
   "cell_type": "code",
   "execution_count": 175,
   "metadata": {},
   "outputs": [
    {
     "name": "stdout",
     "output_type": "stream",
     "text": [
      "Profile Number (GUID)    16835\n",
      "Profile                  16835\n",
      "Portfolio                   43\n",
      "Widget                     254\n",
      "Files                      998\n",
      "Blog                       164\n",
      "Events                     219\n",
      "Badge Progress           16835\n",
      "WirePosts                  426\n",
      "Docs(Beta)                 216\n",
      "Pages                       17\n",
      "Bookmarks                  129\n",
      "Polls                       52\n",
      "Photo Album                238\n",
      "dtype: int64\n"
     ]
    }
   ],
   "source": [
    "print(justInCase2)"
   ]
  },
  {
   "cell_type": "code",
   "execution_count": 174,
   "metadata": {},
   "outputs": [],
   "source": [
    "justInCase2 = justInCase.fillna(0).astype(bool).sum(axis=0)"
   ]
  },
  {
   "cell_type": "code",
   "execution_count": 177,
   "metadata": {},
   "outputs": [],
   "source": [
    "justInCase2.to_csv('q3ProfileFunctionUseFormat2.csv')"
   ]
  },
  {
   "cell_type": "code",
   "execution_count": 144,
   "metadata": {},
   "outputs": [],
   "source": [
    "justInCase = pd.merge(justInCase, dfq3, on=\"Profile Number (GUID)\", how = 'left')"
   ]
  },
  {
   "cell_type": "code",
   "execution_count": null,
   "metadata": {},
   "outputs": [],
   "source": [
    "df = df.drop(columns=['Profile'])"
   ]
  },
  {
   "cell_type": "code",
   "execution_count": null,
   "metadata": {},
   "outputs": [],
   "source": [
    "df.insert(1, 'Profile', '1')"
   ]
  },
  {
   "cell_type": "code",
   "execution_count": null,
   "metadata": {},
   "outputs": [],
   "source": [
    "helper = pd.read_csv(\"AlexDonnaUXDataRequestJune11Final.csv\")"
   ]
  },
  {
   "cell_type": "code",
   "execution_count": null,
   "metadata": {
    "scrolled": true
   },
   "outputs": [],
   "source": [
    "print(df)"
   ]
  },
  {
   "cell_type": "code",
   "execution_count": null,
   "metadata": {},
   "outputs": [],
   "source": [
    "df.insert(6, 'Badge Progress', '1')"
   ]
  },
  {
   "cell_type": "code",
   "execution_count": null,
   "metadata": {},
   "outputs": [],
   "source": [
    "helper = helper.drop(columns=['Avatar', 'DepartmentOrSchool', 'PhoneNumber', 'Email', 'SocialMedia', 'Description', 'Education', 'WorkExperiance', 'Skills', 'Groups', 'Profile Completeness', 'NumberOfGroups', 'Unnamed: 0'])"
   ]
  },
  {
   "cell_type": "code",
   "execution_count": null,
   "metadata": {},
   "outputs": [],
   "source": [
    "df = pd.merge(df, helper, on='Name')"
   ]
  },
  {
   "cell_type": "code",
   "execution_count": null,
   "metadata": {},
   "outputs": [],
   "source": [
    "friend = pd.read_csv(\"friend.csv\")"
   ]
  },
  {
   "cell_type": "code",
   "execution_count": null,
   "metadata": {
    "scrolled": true
   },
   "outputs": [],
   "source": [
    "print(friend)"
   ]
  },
  {
   "cell_type": "code",
   "execution_count": null,
   "metadata": {},
   "outputs": [],
   "source": [
    "friend.to_csv('q5numberOfColleges.csv')"
   ]
  },
  {
   "cell_type": "code",
   "execution_count": null,
   "metadata": {},
   "outputs": [],
   "source": [
    "friend = friend.reset_index()"
   ]
  },
  {
   "cell_type": "code",
   "execution_count": null,
   "metadata": {
    "scrolled": true
   },
   "outputs": [],
   "source": [
    "friend.columns=['Profile number (GUID)', 'Number of colleges']"
   ]
  },
  {
   "cell_type": "code",
   "execution_count": null,
   "metadata": {},
   "outputs": [],
   "source": [
    "friend = friend.drop(columns=['Relationship'])"
   ]
  },
  {
   "cell_type": "code",
   "execution_count": null,
   "metadata": {},
   "outputs": [],
   "source": [
    "friend = friend.drop(columns=['Name'])"
   ]
  },
  {
   "cell_type": "code",
   "execution_count": null,
   "metadata": {},
   "outputs": [],
   "source": [
    "friend = friend.groupby(['GUID']).count()"
   ]
  },
  {
   "cell_type": "code",
   "execution_count": null,
   "metadata": {},
   "outputs": [],
   "source": [
    "friend2 = pd.read_csv(\"friend.csv\")"
   ]
  },
  {
   "cell_type": "code",
   "execution_count": null,
   "metadata": {},
   "outputs": [],
   "source": [
    "friend2.columns=['Name', 'GUID', 'Relationship', 'FGUID']"
   ]
  },
  {
   "cell_type": "code",
   "execution_count": null,
   "metadata": {},
   "outputs": [],
   "source": [
    "friend2 = friend2.drop(columns=['Relationship'])"
   ]
  },
  {
   "cell_type": "code",
   "execution_count": null,
   "metadata": {
    "scrolled": true
   },
   "outputs": [],
   "source": [
    "print(friend2)"
   ]
  },
  {
   "cell_type": "code",
   "execution_count": null,
   "metadata": {},
   "outputs": [],
   "source": [
    "friend2 = friend2.drop(columns=['FGUID'])"
   ]
  },
  {
   "cell_type": "code",
   "execution_count": null,
   "metadata": {},
   "outputs": [],
   "source": [
    "friend = pd.merge(friend, friend2, on='GUID', how = 'left')"
   ]
  },
  {
   "cell_type": "code",
   "execution_count": null,
   "metadata": {},
   "outputs": [],
   "source": []
  }
 ],
 "metadata": {
  "kernelspec": {
   "display_name": "Python 3",
   "language": "python",
   "name": "python3"
  },
  "language_info": {
   "codemirror_mode": {
    "name": "ipython",
    "version": 3
   },
   "file_extension": ".py",
   "mimetype": "text/x-python",
   "name": "python",
   "nbconvert_exporter": "python",
   "pygments_lexer": "ipython3",
   "version": "3.6.4"
  }
 },
 "nbformat": 4,
 "nbformat_minor": 2
}
